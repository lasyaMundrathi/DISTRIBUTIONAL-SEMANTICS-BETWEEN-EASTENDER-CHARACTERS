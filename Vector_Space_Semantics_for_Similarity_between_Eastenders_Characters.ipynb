{
  "cells": [
    {
      "cell_type": "markdown",
      "metadata": {
        "id": "D9riZsJoyMkN"
      },
      "source": [
        "# Vector Space Semantics for Similarity between Eastenders Characters\n",
        "we will be creating a vector representation of a document containing lines spoken by a character in the Eastenders script data (i.e. from the file `training.csv`), then improving that representation such that each character vector is maximially distinguished from the other character documents. This distinction is measured by how well a simple information retrieval classification method can select documents from validation and test data as belonging to the correct class of document (i.e. deciding which character spoke the lines by measuring the similarity of those character document vectors to those built in training).\n",
        "\n",
        "As the lines are not evenly distributed in terms of frequency, we are using a maximum of the first **400 lines** of each character in the training data `training.csv` to create the training documents, and a maximum of the first **40 lines** in the test data (from `test.csv`). This makes it more challenging, as number of lines spoken by a character can't be used directly or otherwise as a feature.\n"
      ]
    },
    {
      "cell_type": "markdown",
      "source": [
        "## PIPE LINE\n",
        "The pipeline of similarity-based information retrieval based evaluation.\n",
        "1.   Loading training and test data into a dataframe.\n",
        "2. Splitting the training data for held-out validation with random samples of 9:1 train/heldout split.\n",
        "\n",
        "1.   Joining the 360 charecter spoken lines of each charecter in create_character_document_from_dataframe of the training data and 40 charecter spoken lines of each charecter for validation data.\n",
        "1.   Processing feature enginnering(Pre-processing, Feature Extraction) of each charecter documents. \n",
        "2. Converting the charecter documents of unique charecter to matrix by vectorizing the dictionary in order to compute cosine similarity and find the similarity between each charecter.\n",
        "\n",
        "1.   Computes an information retrieval based on training data feature matrix and test data feature matrix returns 4 tuples namely,\n",
        "\n",
        " ::mean_rank:: mean of the ranking of the target document in terms of similarity to the query/test document 1 is the best possible score.\n",
        "   \n",
        "    ::mean_cosine_similarity:: mean cosine similarity score for the target document vs. the test document of the same class\n",
        "   \n",
        "    ::accuracy:: proportion of test documents correctly classified\n",
        "    \n",
        "    ::df:: a data frame with all the similarity measures of the test documents vs. train documents\n",
        "\n",
        "1. Closely observing why there isn't a successful highest match between the target character in the training set and that character's vector in the heldout set yet by identifying how their language use is similar, resulting in similar word or ngram features.\n",
        "\n",
        "1.   Testing the performance on the test data \n",
        "\n",
        "*Note: Obtained a mean rank of 1. Found best suitable pre-processing, feature extraction and transformation techniques for charecter vector representation.*"
      ],
      "metadata": {
        "id": "HwYaWViTlIqV"
      }
    },
    {
      "cell_type": "code",
      "execution_count": 53,
      "metadata": {
        "colab": {
          "base_uri": "https://localhost:8080/"
        },
        "id": "g0ywYpU-yMkW",
        "outputId": "1758439a-9e21-45ab-e32d-82086dd5510e"
      },
      "outputs": [
        {
          "output_type": "stream",
          "name": "stdout",
          "text": [
            "Looking in indexes: https://pypi.org/simple, https://us-python.pkg.dev/colab-wheels/public/simple/\n",
            "Requirement already satisfied: nltk in /usr/local/lib/python3.8/dist-packages (3.7)\n",
            "Requirement already satisfied: regex>=2021.8.3 in /usr/local/lib/python3.8/dist-packages (from nltk) (2022.6.2)\n",
            "Requirement already satisfied: joblib in /usr/local/lib/python3.8/dist-packages (from nltk) (1.2.0)\n",
            "Requirement already satisfied: click in /usr/local/lib/python3.8/dist-packages (from nltk) (7.1.2)\n",
            "Requirement already satisfied: tqdm in /usr/local/lib/python3.8/dist-packages (from nltk) (4.64.1)\n"
          ]
        }
      ],
      "source": [
        "!pip install nltk"
      ]
    },
    {
      "cell_type": "code",
      "execution_count": 54,
      "metadata": {
        "colab": {
          "base_uri": "https://localhost:8080/"
        },
        "id": "aNz5h0t0yMkY",
        "outputId": "3d096d7a-7dbc-46c9-e7d2-ee108ec0cbec"
      },
      "outputs": [
        {
          "output_type": "stream",
          "name": "stderr",
          "text": [
            "[nltk_data] Downloading package stopwords to /root/nltk_data...\n",
            "[nltk_data]   Package stopwords is already up-to-date!\n",
            "[nltk_data] Downloading package wordnet to /root/nltk_data...\n",
            "[nltk_data]   Package wordnet is already up-to-date!\n",
            "[nltk_data] Downloading package averaged_perceptron_tagger to\n",
            "[nltk_data]     /root/nltk_data...\n",
            "[nltk_data]   Package averaged_perceptron_tagger is already up-to-\n",
            "[nltk_data]       date!\n",
            "[nltk_data] Downloading package omw-1.4 to /root/nltk_data...\n",
            "[nltk_data]   Package omw-1.4 is already up-to-date!\n"
          ]
        }
      ],
      "source": [
        "import string\n",
        "import re\n",
        "import numpy as np\n",
        "from numpy.linalg import norm\n",
        "import pandas as pd\n",
        "from collections import Counter, OrderedDict\n",
        "\n",
        "import seaborn as sns\n",
        "import matplotlib.pyplot as plt\n",
        "from nltk.tokenize import word_tokenize\n",
        "from nltk.tokenize import RegexpTokenizer\n",
        "from nltk.corpus import stopwords\n",
        "import nltk\n",
        "nltk.download('stopwords')\n",
        "nltk.download('wordnet')\n",
        "nltk.download('averaged_perceptron_tagger')\n",
        "nltk.download('omw-1.4')\n",
        "from sklearn.feature_extraction import DictVectorizer\n",
        "from nltk.stem import PorterStemmer, WordNetLemmatizer \n",
        "%matplotlib inline\n",
        "pd.options.display.max_colwidth=500"
      ]
    },
    {
      "cell_type": "code",
      "execution_count": 55,
      "metadata": {
        "colab": {
          "base_uri": "https://localhost:8080/",
          "height": 537
        },
        "id": "jRNUWJ2cyMkZ",
        "outputId": "4e955e97-51a3-490c-9b84-d644d109b76b"
      },
      "outputs": [
        {
          "output_type": "execute_result",
          "data": {
            "text/plain": [
              "       Episode  Scene                   Scene_info Character_name  \\\n",
              "0         1350      1  DESERTED CAR PARK EXT NIGHT        SHIRLEY   \n",
              "1         1350      1  DESERTED CAR PARK EXT NIGHT          OTHER   \n",
              "2         1350      2                R&R INT NIGHT           JACK   \n",
              "3         1350      2                R&R INT NIGHT         RONNIE   \n",
              "4         1350      2                R&R INT NIGHT           JACK   \n",
              "...        ...    ...                          ...            ...   \n",
              "15314     1399     55         SQUARE EXT DAY LIGHT          OTHER   \n",
              "15315     1399     55         SQUARE EXT DAY LIGHT            MAX   \n",
              "15316     1399     55         SQUARE EXT DAY LIGHT          OTHER   \n",
              "15317     1399     55         SQUARE EXT DAY LIGHT            MAX   \n",
              "15318     1399     55         SQUARE EXT DAY LIGHT          OTHER   \n",
              "\n",
              "                                                                                                              Line  \\\n",
              "0                                               Look at ya, not a mark on ya. And you think you're an unlucky man.   \n",
              "1                                                                                                         Shirl...   \n",
              "2                                                         Oi. Where have you been? Huh? What were the texts about?   \n",
              "3                                                          Nothing. Nothing. I'll be with you in two minutes yeah?   \n",
              "4            Well I've got mates here I wanted to have a chat with them, instead I've been serving behind the bar.   \n",
              "...                                                                                                            ...   \n",
              "15314  Dad? Okay ... alright, just one drink alright. But that's all. It doesn't mean anything. It's just a drink.   \n",
              "15315                                                   Thanks Bradley. Thanks mate... It means the world to me...   \n",
              "15316                                                                                               You alright...   \n",
              "15317                                                                                  Yeah, yeah, yeah. I'm fine.   \n",
              "15318                                                                                           Well, let me know.   \n",
              "\n",
              "       Gender  \n",
              "0      FEMALE  \n",
              "1        MALE  \n",
              "2        MALE  \n",
              "3      FEMALE  \n",
              "4        MALE  \n",
              "...       ...  \n",
              "15314    MALE  \n",
              "15315    MALE  \n",
              "15316    MALE  \n",
              "15317    MALE  \n",
              "15318    MALE  \n",
              "\n",
              "[15319 rows x 6 columns]"
            ],
            "text/html": [
              "\n",
              "  <div id=\"df-ef63da45-8f35-4ac1-b0fe-b2b500187096\">\n",
              "    <div class=\"colab-df-container\">\n",
              "      <div>\n",
              "<style scoped>\n",
              "    .dataframe tbody tr th:only-of-type {\n",
              "        vertical-align: middle;\n",
              "    }\n",
              "\n",
              "    .dataframe tbody tr th {\n",
              "        vertical-align: top;\n",
              "    }\n",
              "\n",
              "    .dataframe thead th {\n",
              "        text-align: right;\n",
              "    }\n",
              "</style>\n",
              "<table border=\"1\" class=\"dataframe\">\n",
              "  <thead>\n",
              "    <tr style=\"text-align: right;\">\n",
              "      <th></th>\n",
              "      <th>Episode</th>\n",
              "      <th>Scene</th>\n",
              "      <th>Scene_info</th>\n",
              "      <th>Character_name</th>\n",
              "      <th>Line</th>\n",
              "      <th>Gender</th>\n",
              "    </tr>\n",
              "  </thead>\n",
              "  <tbody>\n",
              "    <tr>\n",
              "      <th>0</th>\n",
              "      <td>1350</td>\n",
              "      <td>1</td>\n",
              "      <td>DESERTED CAR PARK EXT NIGHT</td>\n",
              "      <td>SHIRLEY</td>\n",
              "      <td>Look at ya, not a mark on ya. And you think you're an unlucky man.</td>\n",
              "      <td>FEMALE</td>\n",
              "    </tr>\n",
              "    <tr>\n",
              "      <th>1</th>\n",
              "      <td>1350</td>\n",
              "      <td>1</td>\n",
              "      <td>DESERTED CAR PARK EXT NIGHT</td>\n",
              "      <td>OTHER</td>\n",
              "      <td>Shirl...</td>\n",
              "      <td>MALE</td>\n",
              "    </tr>\n",
              "    <tr>\n",
              "      <th>2</th>\n",
              "      <td>1350</td>\n",
              "      <td>2</td>\n",
              "      <td>R&amp;R INT NIGHT</td>\n",
              "      <td>JACK</td>\n",
              "      <td>Oi. Where have you been? Huh? What were the texts about?</td>\n",
              "      <td>MALE</td>\n",
              "    </tr>\n",
              "    <tr>\n",
              "      <th>3</th>\n",
              "      <td>1350</td>\n",
              "      <td>2</td>\n",
              "      <td>R&amp;R INT NIGHT</td>\n",
              "      <td>RONNIE</td>\n",
              "      <td>Nothing. Nothing. I'll be with you in two minutes yeah?</td>\n",
              "      <td>FEMALE</td>\n",
              "    </tr>\n",
              "    <tr>\n",
              "      <th>4</th>\n",
              "      <td>1350</td>\n",
              "      <td>2</td>\n",
              "      <td>R&amp;R INT NIGHT</td>\n",
              "      <td>JACK</td>\n",
              "      <td>Well I've got mates here I wanted to have a chat with them, instead I've been serving behind the bar.</td>\n",
              "      <td>MALE</td>\n",
              "    </tr>\n",
              "    <tr>\n",
              "      <th>...</th>\n",
              "      <td>...</td>\n",
              "      <td>...</td>\n",
              "      <td>...</td>\n",
              "      <td>...</td>\n",
              "      <td>...</td>\n",
              "      <td>...</td>\n",
              "    </tr>\n",
              "    <tr>\n",
              "      <th>15314</th>\n",
              "      <td>1399</td>\n",
              "      <td>55</td>\n",
              "      <td>SQUARE EXT DAY LIGHT</td>\n",
              "      <td>OTHER</td>\n",
              "      <td>Dad? Okay ... alright, just one drink alright. But that's all. It doesn't mean anything. It's just a drink.</td>\n",
              "      <td>MALE</td>\n",
              "    </tr>\n",
              "    <tr>\n",
              "      <th>15315</th>\n",
              "      <td>1399</td>\n",
              "      <td>55</td>\n",
              "      <td>SQUARE EXT DAY LIGHT</td>\n",
              "      <td>MAX</td>\n",
              "      <td>Thanks Bradley. Thanks mate... It means the world to me...</td>\n",
              "      <td>MALE</td>\n",
              "    </tr>\n",
              "    <tr>\n",
              "      <th>15316</th>\n",
              "      <td>1399</td>\n",
              "      <td>55</td>\n",
              "      <td>SQUARE EXT DAY LIGHT</td>\n",
              "      <td>OTHER</td>\n",
              "      <td>You alright...</td>\n",
              "      <td>MALE</td>\n",
              "    </tr>\n",
              "    <tr>\n",
              "      <th>15317</th>\n",
              "      <td>1399</td>\n",
              "      <td>55</td>\n",
              "      <td>SQUARE EXT DAY LIGHT</td>\n",
              "      <td>MAX</td>\n",
              "      <td>Yeah, yeah, yeah. I'm fine.</td>\n",
              "      <td>MALE</td>\n",
              "    </tr>\n",
              "    <tr>\n",
              "      <th>15318</th>\n",
              "      <td>1399</td>\n",
              "      <td>55</td>\n",
              "      <td>SQUARE EXT DAY LIGHT</td>\n",
              "      <td>OTHER</td>\n",
              "      <td>Well, let me know.</td>\n",
              "      <td>MALE</td>\n",
              "    </tr>\n",
              "  </tbody>\n",
              "</table>\n",
              "<p>15319 rows × 6 columns</p>\n",
              "</div>\n",
              "      <button class=\"colab-df-convert\" onclick=\"convertToInteractive('df-ef63da45-8f35-4ac1-b0fe-b2b500187096')\"\n",
              "              title=\"Convert this dataframe to an interactive table.\"\n",
              "              style=\"display:none;\">\n",
              "        \n",
              "  <svg xmlns=\"http://www.w3.org/2000/svg\" height=\"24px\"viewBox=\"0 0 24 24\"\n",
              "       width=\"24px\">\n",
              "    <path d=\"M0 0h24v24H0V0z\" fill=\"none\"/>\n",
              "    <path d=\"M18.56 5.44l.94 2.06.94-2.06 2.06-.94-2.06-.94-.94-2.06-.94 2.06-2.06.94zm-11 1L8.5 8.5l.94-2.06 2.06-.94-2.06-.94L8.5 2.5l-.94 2.06-2.06.94zm10 10l.94 2.06.94-2.06 2.06-.94-2.06-.94-.94-2.06-.94 2.06-2.06.94z\"/><path d=\"M17.41 7.96l-1.37-1.37c-.4-.4-.92-.59-1.43-.59-.52 0-1.04.2-1.43.59L10.3 9.45l-7.72 7.72c-.78.78-.78 2.05 0 2.83L4 21.41c.39.39.9.59 1.41.59.51 0 1.02-.2 1.41-.59l7.78-7.78 2.81-2.81c.8-.78.8-2.07 0-2.86zM5.41 20L4 18.59l7.72-7.72 1.47 1.35L5.41 20z\"/>\n",
              "  </svg>\n",
              "      </button>\n",
              "      \n",
              "  <style>\n",
              "    .colab-df-container {\n",
              "      display:flex;\n",
              "      flex-wrap:wrap;\n",
              "      gap: 12px;\n",
              "    }\n",
              "\n",
              "    .colab-df-convert {\n",
              "      background-color: #E8F0FE;\n",
              "      border: none;\n",
              "      border-radius: 50%;\n",
              "      cursor: pointer;\n",
              "      display: none;\n",
              "      fill: #1967D2;\n",
              "      height: 32px;\n",
              "      padding: 0 0 0 0;\n",
              "      width: 32px;\n",
              "    }\n",
              "\n",
              "    .colab-df-convert:hover {\n",
              "      background-color: #E2EBFA;\n",
              "      box-shadow: 0px 1px 2px rgba(60, 64, 67, 0.3), 0px 1px 3px 1px rgba(60, 64, 67, 0.15);\n",
              "      fill: #174EA6;\n",
              "    }\n",
              "\n",
              "    [theme=dark] .colab-df-convert {\n",
              "      background-color: #3B4455;\n",
              "      fill: #D2E3FC;\n",
              "    }\n",
              "\n",
              "    [theme=dark] .colab-df-convert:hover {\n",
              "      background-color: #434B5C;\n",
              "      box-shadow: 0px 1px 3px 1px rgba(0, 0, 0, 0.15);\n",
              "      filter: drop-shadow(0px 1px 2px rgba(0, 0, 0, 0.3));\n",
              "      fill: #FFFFFF;\n",
              "    }\n",
              "  </style>\n",
              "\n",
              "      <script>\n",
              "        const buttonEl =\n",
              "          document.querySelector('#df-ef63da45-8f35-4ac1-b0fe-b2b500187096 button.colab-df-convert');\n",
              "        buttonEl.style.display =\n",
              "          google.colab.kernel.accessAllowed ? 'block' : 'none';\n",
              "\n",
              "        async function convertToInteractive(key) {\n",
              "          const element = document.querySelector('#df-ef63da45-8f35-4ac1-b0fe-b2b500187096');\n",
              "          const dataTable =\n",
              "            await google.colab.kernel.invokeFunction('convertToInteractive',\n",
              "                                                     [key], {});\n",
              "          if (!dataTable) return;\n",
              "\n",
              "          const docLinkHtml = 'Like what you see? Visit the ' +\n",
              "            '<a target=\"_blank\" href=https://colab.research.google.com/notebooks/data_table.ipynb>data table notebook</a>'\n",
              "            + ' to learn more about interactive tables.';\n",
              "          element.innerHTML = '';\n",
              "          dataTable['output_type'] = 'display_data';\n",
              "          await google.colab.output.renderOutput(dataTable, element);\n",
              "          const docLink = document.createElement('div');\n",
              "          docLink.innerHTML = docLinkHtml;\n",
              "          element.appendChild(docLink);\n",
              "        }\n",
              "      </script>\n",
              "    </div>\n",
              "  </div>\n",
              "  "
            ]
          },
          "metadata": {},
          "execution_count": 55
        }
      ],
      "source": [
        "# Load in training data and display in pandas dataframe\n",
        "train_path='training.csv'\n",
        "all_train_data = pd.read_csv(train_path,  delimiter=\"\\t\", skip_blank_lines = True)\n",
        "test_path ='test.csv'\n",
        "test_data = pd.read_csv(test_path,  delimiter=\"\\t\", skip_blank_lines = True)\n",
        "\n",
        "# Inspect\n",
        "all_train_data"
      ]
    },
    {
      "cell_type": "code",
      "execution_count": 56,
      "metadata": {
        "colab": {
          "base_uri": "https://localhost:8080/"
        },
        "id": "IIfhn_TDyMka",
        "outputId": "21175b61-769d-4e36-9d1d-fffcd6559f3e"
      },
      "outputs": [
        {
          "output_type": "stream",
          "name": "stdout",
          "text": [
            "1394\n",
            "1254 140\n"
          ]
        }
      ],
      "source": [
        "# Split into training and test data for heldout validation with random samples of 9:1 train/heldout split\n",
        "from random import shuffle, seed\n",
        "\n",
        "seed(0) # set a seed for reproducibility so same split is used each time\n",
        "\n",
        "epsiode_scene_column = all_train_data.Episode.astype(str) + \"-\" + all_train_data.Scene.astype(str)\n",
        "all_train_data['episode_scene'] = epsiode_scene_column\n",
        "episode_scenes = sorted(list(set([x for x in epsiode_scene_column.values]))) # need to sort to ensure same initial order\n",
        "\n",
        "shuffle(episode_scenes)\n",
        "\n",
        "print(len(episode_scenes))\n",
        "episode_split = int(0.9*len(episode_scenes))\n",
        "training_ep_scenes = episode_scenes[:episode_split]\n",
        "test_ep_scenes = episode_scenes[episode_split:]\n",
        "print(len(training_ep_scenes), len(test_ep_scenes))\n",
        "\n",
        "def train_or_heldout_eps(val):\n",
        "    if val in training_ep_scenes:\n",
        "        return \"training\"\n",
        "    return \"heldout\"\n",
        "\n",
        "all_train_data['train_heldout'] = all_train_data['episode_scene'].apply(train_or_heldout_eps)"
      ]
    },
    {
      "cell_type": "code",
      "execution_count": 57,
      "metadata": {
        "colab": {
          "base_uri": "https://localhost:8080/"
        },
        "id": "a_nfw0lCyMka",
        "outputId": "5e93f312-3a4c-462a-e90f-be1cb80febdf"
      },
      "outputs": [
        {
          "output_type": "stream",
          "name": "stdout",
          "text": [
            "Raw Data:  (15319, 8)\n",
            "Train set:  (13638, 8)\n",
            "Validation set:  (1681, 8)\n"
          ]
        }
      ],
      "source": [
        "print('Raw Data: ',np.shape(all_train_data))\n",
        "train_data = all_train_data[all_train_data['train_heldout']=='training']\n",
        "val_data = all_train_data[all_train_data['train_heldout']=='heldout']\n",
        "print('Train set: ',np.shape(train_data))\n",
        "print('Validation set: ',np.shape(val_data))"
      ]
    },
    {
      "cell_type": "code",
      "execution_count": 58,
      "metadata": {
        "colab": {
          "base_uri": "https://localhost:8080/",
          "height": 676
        },
        "id": "xu79KtQUyMkb",
        "outputId": "411b9784-5dda-4a5c-c251-28c5fe913cc4"
      },
      "outputs": [
        {
          "output_type": "execute_result",
          "data": {
            "text/plain": [
              "       Episode  Scene                   Scene_info Character_name  \\\n",
              "0         1350      1  DESERTED CAR PARK EXT NIGHT        SHIRLEY   \n",
              "1         1350      1  DESERTED CAR PARK EXT NIGHT          OTHER   \n",
              "2         1350      2                R&R INT NIGHT           JACK   \n",
              "3         1350      2                R&R INT NIGHT         RONNIE   \n",
              "4         1350      2                R&R INT NIGHT           JACK   \n",
              "...        ...    ...                          ...            ...   \n",
              "15314     1399     55         SQUARE EXT DAY LIGHT          OTHER   \n",
              "15315     1399     55         SQUARE EXT DAY LIGHT            MAX   \n",
              "15316     1399     55         SQUARE EXT DAY LIGHT          OTHER   \n",
              "15317     1399     55         SQUARE EXT DAY LIGHT            MAX   \n",
              "15318     1399     55         SQUARE EXT DAY LIGHT          OTHER   \n",
              "\n",
              "                                                                                                              Line  \\\n",
              "0                                               Look at ya, not a mark on ya. And you think you're an unlucky man.   \n",
              "1                                                                                                         Shirl...   \n",
              "2                                                         Oi. Where have you been? Huh? What were the texts about?   \n",
              "3                                                          Nothing. Nothing. I'll be with you in two minutes yeah?   \n",
              "4            Well I've got mates here I wanted to have a chat with them, instead I've been serving behind the bar.   \n",
              "...                                                                                                            ...   \n",
              "15314  Dad? Okay ... alright, just one drink alright. But that's all. It doesn't mean anything. It's just a drink.   \n",
              "15315                                                   Thanks Bradley. Thanks mate... It means the world to me...   \n",
              "15316                                                                                               You alright...   \n",
              "15317                                                                                  Yeah, yeah, yeah. I'm fine.   \n",
              "15318                                                                                           Well, let me know.   \n",
              "\n",
              "       Gender episode_scene train_heldout  \n",
              "0      FEMALE        1350-1      training  \n",
              "1        MALE        1350-1      training  \n",
              "2        MALE        1350-2      training  \n",
              "3      FEMALE        1350-2      training  \n",
              "4        MALE        1350-2      training  \n",
              "...       ...           ...           ...  \n",
              "15314    MALE       1399-55      training  \n",
              "15315    MALE       1399-55      training  \n",
              "15316    MALE       1399-55      training  \n",
              "15317    MALE       1399-55      training  \n",
              "15318    MALE       1399-55      training  \n",
              "\n",
              "[13638 rows x 8 columns]"
            ],
            "text/html": [
              "\n",
              "  <div id=\"df-d2cefdfb-e07b-454c-997b-a6595306f3a6\">\n",
              "    <div class=\"colab-df-container\">\n",
              "      <div>\n",
              "<style scoped>\n",
              "    .dataframe tbody tr th:only-of-type {\n",
              "        vertical-align: middle;\n",
              "    }\n",
              "\n",
              "    .dataframe tbody tr th {\n",
              "        vertical-align: top;\n",
              "    }\n",
              "\n",
              "    .dataframe thead th {\n",
              "        text-align: right;\n",
              "    }\n",
              "</style>\n",
              "<table border=\"1\" class=\"dataframe\">\n",
              "  <thead>\n",
              "    <tr style=\"text-align: right;\">\n",
              "      <th></th>\n",
              "      <th>Episode</th>\n",
              "      <th>Scene</th>\n",
              "      <th>Scene_info</th>\n",
              "      <th>Character_name</th>\n",
              "      <th>Line</th>\n",
              "      <th>Gender</th>\n",
              "      <th>episode_scene</th>\n",
              "      <th>train_heldout</th>\n",
              "    </tr>\n",
              "  </thead>\n",
              "  <tbody>\n",
              "    <tr>\n",
              "      <th>0</th>\n",
              "      <td>1350</td>\n",
              "      <td>1</td>\n",
              "      <td>DESERTED CAR PARK EXT NIGHT</td>\n",
              "      <td>SHIRLEY</td>\n",
              "      <td>Look at ya, not a mark on ya. And you think you're an unlucky man.</td>\n",
              "      <td>FEMALE</td>\n",
              "      <td>1350-1</td>\n",
              "      <td>training</td>\n",
              "    </tr>\n",
              "    <tr>\n",
              "      <th>1</th>\n",
              "      <td>1350</td>\n",
              "      <td>1</td>\n",
              "      <td>DESERTED CAR PARK EXT NIGHT</td>\n",
              "      <td>OTHER</td>\n",
              "      <td>Shirl...</td>\n",
              "      <td>MALE</td>\n",
              "      <td>1350-1</td>\n",
              "      <td>training</td>\n",
              "    </tr>\n",
              "    <tr>\n",
              "      <th>2</th>\n",
              "      <td>1350</td>\n",
              "      <td>2</td>\n",
              "      <td>R&amp;R INT NIGHT</td>\n",
              "      <td>JACK</td>\n",
              "      <td>Oi. Where have you been? Huh? What were the texts about?</td>\n",
              "      <td>MALE</td>\n",
              "      <td>1350-2</td>\n",
              "      <td>training</td>\n",
              "    </tr>\n",
              "    <tr>\n",
              "      <th>3</th>\n",
              "      <td>1350</td>\n",
              "      <td>2</td>\n",
              "      <td>R&amp;R INT NIGHT</td>\n",
              "      <td>RONNIE</td>\n",
              "      <td>Nothing. Nothing. I'll be with you in two minutes yeah?</td>\n",
              "      <td>FEMALE</td>\n",
              "      <td>1350-2</td>\n",
              "      <td>training</td>\n",
              "    </tr>\n",
              "    <tr>\n",
              "      <th>4</th>\n",
              "      <td>1350</td>\n",
              "      <td>2</td>\n",
              "      <td>R&amp;R INT NIGHT</td>\n",
              "      <td>JACK</td>\n",
              "      <td>Well I've got mates here I wanted to have a chat with them, instead I've been serving behind the bar.</td>\n",
              "      <td>MALE</td>\n",
              "      <td>1350-2</td>\n",
              "      <td>training</td>\n",
              "    </tr>\n",
              "    <tr>\n",
              "      <th>...</th>\n",
              "      <td>...</td>\n",
              "      <td>...</td>\n",
              "      <td>...</td>\n",
              "      <td>...</td>\n",
              "      <td>...</td>\n",
              "      <td>...</td>\n",
              "      <td>...</td>\n",
              "      <td>...</td>\n",
              "    </tr>\n",
              "    <tr>\n",
              "      <th>15314</th>\n",
              "      <td>1399</td>\n",
              "      <td>55</td>\n",
              "      <td>SQUARE EXT DAY LIGHT</td>\n",
              "      <td>OTHER</td>\n",
              "      <td>Dad? Okay ... alright, just one drink alright. But that's all. It doesn't mean anything. It's just a drink.</td>\n",
              "      <td>MALE</td>\n",
              "      <td>1399-55</td>\n",
              "      <td>training</td>\n",
              "    </tr>\n",
              "    <tr>\n",
              "      <th>15315</th>\n",
              "      <td>1399</td>\n",
              "      <td>55</td>\n",
              "      <td>SQUARE EXT DAY LIGHT</td>\n",
              "      <td>MAX</td>\n",
              "      <td>Thanks Bradley. Thanks mate... It means the world to me...</td>\n",
              "      <td>MALE</td>\n",
              "      <td>1399-55</td>\n",
              "      <td>training</td>\n",
              "    </tr>\n",
              "    <tr>\n",
              "      <th>15316</th>\n",
              "      <td>1399</td>\n",
              "      <td>55</td>\n",
              "      <td>SQUARE EXT DAY LIGHT</td>\n",
              "      <td>OTHER</td>\n",
              "      <td>You alright...</td>\n",
              "      <td>MALE</td>\n",
              "      <td>1399-55</td>\n",
              "      <td>training</td>\n",
              "    </tr>\n",
              "    <tr>\n",
              "      <th>15317</th>\n",
              "      <td>1399</td>\n",
              "      <td>55</td>\n",
              "      <td>SQUARE EXT DAY LIGHT</td>\n",
              "      <td>MAX</td>\n",
              "      <td>Yeah, yeah, yeah. I'm fine.</td>\n",
              "      <td>MALE</td>\n",
              "      <td>1399-55</td>\n",
              "      <td>training</td>\n",
              "    </tr>\n",
              "    <tr>\n",
              "      <th>15318</th>\n",
              "      <td>1399</td>\n",
              "      <td>55</td>\n",
              "      <td>SQUARE EXT DAY LIGHT</td>\n",
              "      <td>OTHER</td>\n",
              "      <td>Well, let me know.</td>\n",
              "      <td>MALE</td>\n",
              "      <td>1399-55</td>\n",
              "      <td>training</td>\n",
              "    </tr>\n",
              "  </tbody>\n",
              "</table>\n",
              "<p>13638 rows × 8 columns</p>\n",
              "</div>\n",
              "      <button class=\"colab-df-convert\" onclick=\"convertToInteractive('df-d2cefdfb-e07b-454c-997b-a6595306f3a6')\"\n",
              "              title=\"Convert this dataframe to an interactive table.\"\n",
              "              style=\"display:none;\">\n",
              "        \n",
              "  <svg xmlns=\"http://www.w3.org/2000/svg\" height=\"24px\"viewBox=\"0 0 24 24\"\n",
              "       width=\"24px\">\n",
              "    <path d=\"M0 0h24v24H0V0z\" fill=\"none\"/>\n",
              "    <path d=\"M18.56 5.44l.94 2.06.94-2.06 2.06-.94-2.06-.94-.94-2.06-.94 2.06-2.06.94zm-11 1L8.5 8.5l.94-2.06 2.06-.94-2.06-.94L8.5 2.5l-.94 2.06-2.06.94zm10 10l.94 2.06.94-2.06 2.06-.94-2.06-.94-.94-2.06-.94 2.06-2.06.94z\"/><path d=\"M17.41 7.96l-1.37-1.37c-.4-.4-.92-.59-1.43-.59-.52 0-1.04.2-1.43.59L10.3 9.45l-7.72 7.72c-.78.78-.78 2.05 0 2.83L4 21.41c.39.39.9.59 1.41.59.51 0 1.02-.2 1.41-.59l7.78-7.78 2.81-2.81c.8-.78.8-2.07 0-2.86zM5.41 20L4 18.59l7.72-7.72 1.47 1.35L5.41 20z\"/>\n",
              "  </svg>\n",
              "      </button>\n",
              "      \n",
              "  <style>\n",
              "    .colab-df-container {\n",
              "      display:flex;\n",
              "      flex-wrap:wrap;\n",
              "      gap: 12px;\n",
              "    }\n",
              "\n",
              "    .colab-df-convert {\n",
              "      background-color: #E8F0FE;\n",
              "      border: none;\n",
              "      border-radius: 50%;\n",
              "      cursor: pointer;\n",
              "      display: none;\n",
              "      fill: #1967D2;\n",
              "      height: 32px;\n",
              "      padding: 0 0 0 0;\n",
              "      width: 32px;\n",
              "    }\n",
              "\n",
              "    .colab-df-convert:hover {\n",
              "      background-color: #E2EBFA;\n",
              "      box-shadow: 0px 1px 2px rgba(60, 64, 67, 0.3), 0px 1px 3px 1px rgba(60, 64, 67, 0.15);\n",
              "      fill: #174EA6;\n",
              "    }\n",
              "\n",
              "    [theme=dark] .colab-df-convert {\n",
              "      background-color: #3B4455;\n",
              "      fill: #D2E3FC;\n",
              "    }\n",
              "\n",
              "    [theme=dark] .colab-df-convert:hover {\n",
              "      background-color: #434B5C;\n",
              "      box-shadow: 0px 1px 3px 1px rgba(0, 0, 0, 0.15);\n",
              "      filter: drop-shadow(0px 1px 2px rgba(0, 0, 0, 0.3));\n",
              "      fill: #FFFFFF;\n",
              "    }\n",
              "  </style>\n",
              "\n",
              "      <script>\n",
              "        const buttonEl =\n",
              "          document.querySelector('#df-d2cefdfb-e07b-454c-997b-a6595306f3a6 button.colab-df-convert');\n",
              "        buttonEl.style.display =\n",
              "          google.colab.kernel.accessAllowed ? 'block' : 'none';\n",
              "\n",
              "        async function convertToInteractive(key) {\n",
              "          const element = document.querySelector('#df-d2cefdfb-e07b-454c-997b-a6595306f3a6');\n",
              "          const dataTable =\n",
              "            await google.colab.kernel.invokeFunction('convertToInteractive',\n",
              "                                                     [key], {});\n",
              "          if (!dataTable) return;\n",
              "\n",
              "          const docLinkHtml = 'Like what you see? Visit the ' +\n",
              "            '<a target=\"_blank\" href=https://colab.research.google.com/notebooks/data_table.ipynb>data table notebook</a>'\n",
              "            + ' to learn more about interactive tables.';\n",
              "          element.innerHTML = '';\n",
              "          dataTable['output_type'] = 'display_data';\n",
              "          await google.colab.output.renderOutput(dataTable, element);\n",
              "          const docLink = document.createElement('div');\n",
              "          docLink.innerHTML = docLinkHtml;\n",
              "          element.appendChild(docLink);\n",
              "        }\n",
              "      </script>\n",
              "    </div>\n",
              "  </div>\n",
              "  "
            ]
          },
          "metadata": {},
          "execution_count": 58
        }
      ],
      "source": [
        "train_data"
      ]
    },
    {
      "cell_type": "code",
      "execution_count": 59,
      "metadata": {
        "id": "bio_2lMUyMkc"
      },
      "outputs": [],
      "source": [
        "if False:\n",
        "    # A simpler alternative to the above, but where a high split means some characters\n",
        "    # may be left out\n",
        "    print('Raw Data: ',np.shape(all_train_data))\n",
        "    idx = int(0.9 * np.shape(all_train_data)[0])\n",
        "    train_data = all_train_data[:idx]\n",
        "    val_data = all_train_data[idx:]\n",
        "    print('Train set: ',np.shape(train_data))\n",
        "    print('Validation set: ',np.shape(val_data))"
      ]
    },
    {
      "cell_type": "code",
      "execution_count": 60,
      "metadata": {
        "id": "9TzzpHtryMkc"
      },
      "outputs": [],
      "source": [
        "# Create one document per character\n",
        "def create_character_document_from_dataframe(df, max_line_count):\n",
        "    \"\"\"Returns a dict with the name of the character as key,\n",
        "    their lines joined together as a single string, with end of line _EOL_\n",
        "    markers between them.\n",
        "    \n",
        "    ::max_line_count:: the maximum number of lines to be added per character\n",
        "    \"\"\"\n",
        "    character_docs = {}\n",
        "    character_line_count = {}\n",
        "    for line, name, gender in zip(df.Line, df.Character_name, df.Gender):\n",
        "        if not name in character_docs.keys():\n",
        "            character_docs[name] = \"\"\n",
        "            character_line_count[name] = 0\n",
        "        if character_line_count[name]==max_line_count:\n",
        "            continue\n",
        "        character_docs[name] += str(line)   + \" _EOL_ \"  # adding an end-of-line token\n",
        "        character_line_count[name]+=1\n",
        "    print(\"lines per character\", character_line_count)\n",
        "    return character_docs"
      ]
    },
    {
      "cell_type": "code",
      "execution_count": 61,
      "metadata": {
        "colab": {
          "base_uri": "https://localhost:8080/"
        },
        "id": "tt_ModycyMkd",
        "outputId": "9d3eaf03-068d-4868-b36b-e26f8d0ac51b"
      },
      "outputs": [
        {
          "output_type": "stream",
          "name": "stdout",
          "text": [
            "lines per character {'SHIRLEY': 360, 'OTHER': 360, 'JACK': 360, 'RONNIE': 360, 'TANYA': 360, 'SEAN': 360, 'ROXY': 360, 'HEATHER': 360, 'MAX': 360, 'IAN': 360, 'JANE': 360, 'STACEY': 360, 'PHIL': 360, 'MINTY': 360, 'CHRISTIAN': 342, 'CLARE': 352}\n",
            "Num. Characters:  16 \n",
            "\n",
            "SHIRLEY Number of Words:  3848\n",
            "OTHER Number of Words:  3244\n",
            "JACK Number of Words:  4435\n",
            "RONNIE Number of Words:  3442\n",
            "TANYA Number of Words:  3786\n",
            "SEAN Number of Words:  3637\n",
            "ROXY Number of Words:  3838\n",
            "HEATHER Number of Words:  4098\n",
            "MAX Number of Words:  4363\n",
            "IAN Number of Words:  4332\n",
            "JANE Number of Words:  3648\n",
            "STACEY Number of Words:  3913\n",
            "PHIL Number of Words:  3635\n",
            "MINTY Number of Words:  4005\n",
            "CHRISTIAN Number of Words:  3738\n",
            "CLARE Number of Words:  4344\n",
            "total words 62306\n"
          ]
        }
      ],
      "source": [
        "# print out the number of words each character has in the training set\n",
        "# only use the first 360 lines of each character\n",
        "train_character_docs = create_character_document_from_dataframe(train_data, max_line_count=360)\n",
        "print('Num. Characters: ',len(train_character_docs.keys()),\"\\n\")\n",
        "total_words = 0\n",
        "for name in train_character_docs.keys():\n",
        "    print(name, 'Number of Words: ',len(train_character_docs[name].split()))\n",
        "    total_words += len(train_character_docs[name].split())\n",
        "print(\"total words\", total_words)"
      ]
    },
    {
      "cell_type": "code",
      "source": [
        "def pre_process(character_text):\n",
        "    \"\"\"Pre-process all the concatenated lines of a character, \n",
        "    using tokenization, spelling normalization and other techniques.\n",
        "    \n",
        "    Initially just a tokenization on white space. Improve this for Q1.\n",
        "    \n",
        "    ::character_text:: a string with all of one character's lines\n",
        "    \"\"\"\n",
        "    # Tokenizing the words and removing puncuation marks\n",
        "    tokenise = RegexpTokenizer(r'\\w+')\n",
        "    tokens = tokenise.tokenize(character_text)\n",
        "  \n",
        "    # lowercasing\n",
        "    token = [t.lower() for t in tokens]\n",
        "    \n",
        "    # stopword removal \n",
        "    stop = set(stopwords.words('english'))\n",
        "    token = [t for t in token if t not in stop]\n",
        "    # Stemming words through porter stemmer\n",
        "    p_stemmer = PorterStemmer()\n",
        "    token = [p_stemmer.stem(t)  for t in token]\n",
        "    return token"
      ],
      "metadata": {
        "id": "2MCOVkHQllm-"
      },
      "execution_count": 62,
      "outputs": []
    },
    {
      "cell_type": "code",
      "execution_count": 63,
      "metadata": {
        "id": "QRxdQwDWyMke"
      },
      "outputs": [],
      "source": [
        "# create list of pairs of (character name, pre-processed character) \n",
        "training_corpus = [(name, pre_process(doc)) for name, doc in sorted(train_character_docs.items())]\n",
        "train_labels = [name for name, doc in training_corpus]"
      ]
    },
    {
      "cell_type": "code",
      "execution_count": 64,
      "metadata": {
        "id": "e9Cx_mYEyMke"
      },
      "outputs": [],
      "source": [
        "def to_feature_vector_dictionary(character_doc, extra_features):\n",
        "    \"\"\"Converts a list of pre-processed tokens and extra features\n",
        "    to a Dictionary as a function of the tokens.\n",
        "    \n",
        "    Initially just a simple count. \n",
        "    \n",
        "    ::character_doc:: a list of pre-processed tokens\n",
        "    ::extra_features:: any extra features for the character to be added to feature vector dict\n",
        "    \"\"\"\n",
        "    counts = Counter(character_doc)  # for now a simple count\n",
        "    counts = dict(counts)\n",
        "    # add the extra features, for now just adding one count for each extra feature\n",
        "    for feature in extra_features:\n",
        "        counts[feature] += 1\n",
        "    return counts  "
      ]
    },
    {
      "cell_type": "code",
      "source": [
        "from nltk import ngrams\n",
        "# filtering the documents based on the mi_df and max_df\n",
        "def filter_documents(corpus, min_df=1, max_df=1, fitting=False):\n",
        "    f_dicts, label = [], []\n",
        "    \n",
        "    # Counting the words in the documents\n",
        "    count_words = Counter()\n",
        "    for key, doc in corpus:\n",
        "        label.append(key)\n",
        "        n=1  #(unigram)\n",
        "        features = to_feature_vector_dictionary(doc,[])\n",
        "        count_words.update(features.keys())\n",
        "        f_dicts.append(features)\n",
        "    \n",
        "    # Filtering the words using min_df and max_df\n",
        "    if fitting:\n",
        "        for f_dict in f_dicts:\n",
        "            for feature in list(f_dict.keys()):\n",
        "                if not min_df <= count_words[feature] / len(f_dicts) <= max_df:\n",
        "                    del f_dict[feature]\n",
        "    \n",
        "    # returning the keys/names and feature dictionary \n",
        "    return f_dicts, label"
      ],
      "metadata": {
        "id": "rjhI538AmGgc"
      },
      "execution_count": 65,
      "outputs": []
    },
    {
      "cell_type": "code",
      "source": [
        "# Using k-best method with k/num_features as 800 for feature reduction\n",
        "from sklearn.feature_selection import SelectKBest, chi2\n",
        "from sklearn.feature_extraction.text import TfidfTransformer\n",
        "from sklearn.pipeline import Pipeline\n",
        "\n",
        "# Pipeline with DictVectorizer and k-best selection methods\n",
        "pipeline = Pipeline([('vectorizer', DictVectorizer()),\n",
        "                     #('tf-idf', TfidfTransformer(norm='l1', use_idf=False, smooth_idf=False, sublinear_tf=False)),\n",
        "                     ('k-best', SelectKBest(score_func=chi2, k=800))\n",
        "                     ])\n",
        "\n",
        "def create_document_matrix_from_corpus(corpus, fitting=False):\n",
        "    \"\"\"\n",
        "    Method which fits different vectorizers on data and returns a matrix.\n",
        "    Currently just does simple conversion to matrix by vectorizing the dictionary. Improve this for Q3.\n",
        "    \n",
        "    ::corpus:: a list of (class_label, document) pairs.\n",
        "    ::fitting:: a boolean indicating whether to fit/train the vectorizers (should be true on training data)\n",
        "    \"\"\"\n",
        "    # Performing manual tf idf\n",
        "    feature_dicts, labels = filter_documents(corpus, min_df=0, max_df=0.99, fitting=fitting)\n",
        "    \n",
        "    # Fitting feature dictionaries using the pipeline if fitting set to true\n",
        "    if fitting:\n",
        "        pipeline.fit(feature_dicts, labels)\n",
        "    \n",
        "    # Transforming the feature dictionaries using the fitted pipeline\n",
        "    doc_feature_matrix = pipeline.transform(feature_dicts)\n",
        "    \n",
        "    return doc_feature_matrix"
      ],
      "metadata": {
        "id": "LY9osAbdmO2S"
      },
      "execution_count": 66,
      "outputs": []
    },
    {
      "cell_type": "code",
      "execution_count": 67,
      "metadata": {
        "colab": {
          "base_uri": "https://localhost:8080/"
        },
        "id": "FWVp2kY8yMkf",
        "outputId": "1cf6fbdc-bf68-4a18-e7ca-e653bfd69927"
      },
      "outputs": [
        {
          "output_type": "execute_result",
          "data": {
            "text/plain": [
              "<16x800 sparse matrix of type '<class 'numpy.float64'>'\n",
              "\twith 4239 stored elements in Compressed Sparse Row format>"
            ]
          },
          "metadata": {},
          "execution_count": 67
        }
      ],
      "source": [
        "training_feature_matrix = create_document_matrix_from_corpus(training_corpus, fitting=True)\n",
        "training_feature_matrix"
      ]
    },
    {
      "cell_type": "code",
      "execution_count": 68,
      "metadata": {
        "colab": {
          "base_uri": "https://localhost:8080/"
        },
        "id": "SdZsDy26yMkf",
        "outputId": "b8c517e1-9f60-4f7d-e1b4-810677eaa67d"
      },
      "outputs": [
        {
          "output_type": "stream",
          "name": "stdout",
          "text": [
            "lines per character {'TANYA': 40, 'MAX': 40, 'SEAN': 35, 'SHIRLEY': 40, 'OTHER': 40, 'STACEY': 40, 'RONNIE': 40, 'JACK': 40, 'PHIL': 40, 'IAN': 40, 'JANE': 40, 'ROXY': 40, 'HEATHER': 40, 'MINTY': 40, 'CHRISTIAN': 40, 'CLARE': 40}\n",
            "Num. Characters:  16 \n",
            "\n",
            "TANYA Num of Words:  438\n",
            "MAX Num of Words:  737\n",
            "SEAN Num of Words:  366\n",
            "SHIRLEY Num of Words:  329\n",
            "OTHER Num of Words:  357\n",
            "STACEY Num of Words:  412\n",
            "RONNIE Num of Words:  464\n",
            "JACK Num of Words:  351\n",
            "PHIL Num of Words:  475\n",
            "IAN Num of Words:  508\n",
            "JANE Num of Words:  458\n",
            "ROXY Num of Words:  392\n",
            "HEATHER Num of Words:  411\n",
            "MINTY Num of Words:  470\n",
            "CHRISTIAN Num of Words:  489\n",
            "CLARE Num of Words:  405\n",
            "total words 7062\n"
          ]
        }
      ],
      "source": [
        "# get the validation data- only 40 lines used for each character\n",
        "val_character_docs = create_character_document_from_dataframe(val_data, max_line_count=40)\n",
        "print('Num. Characters: ',len(val_character_docs.keys()),\"\\n\")\n",
        "total_words = 0\n",
        "for name in val_character_docs.keys():\n",
        "    print(name, 'Num of Words: ',len(val_character_docs[name].split()))\n",
        "    total_words += len(val_character_docs[name].split())\n",
        "print(\"total words\", total_words)\n",
        "\n",
        "# create list of pairs of (character name, pre-processed character) \n",
        "val_corpus = [(name, pre_process(doc)) for name, doc in sorted(val_character_docs.items())]\n",
        "val_labels = [name for name, doc in val_corpus]"
      ]
    },
    {
      "cell_type": "code",
      "execution_count": 69,
      "metadata": {
        "id": "WoicIS-HyMkg"
      },
      "outputs": [],
      "source": [
        "# Just transform the val_feature_matrix, don't fit\n",
        "val_feature_matrix = create_document_matrix_from_corpus(val_corpus, fitting=False)"
      ]
    },
    {
      "cell_type": "code",
      "execution_count": 70,
      "metadata": {
        "colab": {
          "base_uri": "https://localhost:8080/"
        },
        "id": "Hk5k01tgyMkg",
        "outputId": "14ab9f42-4279-45b0-e75d-6789b43f0943"
      },
      "outputs": [
        {
          "output_type": "execute_result",
          "data": {
            "text/plain": [
              "<16x800 sparse matrix of type '<class 'numpy.float64'>'\n",
              "\twith 860 stored elements in Compressed Sparse Row format>"
            ]
          },
          "metadata": {},
          "execution_count": 70
        }
      ],
      "source": [
        "val_feature_matrix"
      ]
    },
    {
      "cell_type": "code",
      "execution_count": 71,
      "metadata": {
        "id": "C_clbXH-yMkh"
      },
      "outputs": [],
      "source": [
        "def compute_cosine_similarity(v1, v2):\n",
        "    \"\"\"Takes a pair of vectors v1 and v2 (1-d arrays e.g. [0, 0.5, 0.5])\n",
        "    returns the cosine similarity between the vectors\n",
        "    \"\"\"\n",
        "    \n",
        "    # compute cosine similarity manually\n",
        "    manual_cosine_similarity = np.dot(v1, v2)  /(norm(v1) * norm(v2))\n",
        "    \n",
        "    return manual_cosine_similarity"
      ]
    },
    {
      "cell_type": "code",
      "execution_count": 72,
      "metadata": {
        "id": "dHoltOAzyMkh"
      },
      "outputs": [],
      "source": [
        "def compute_IR_evaluation_scores(train_feature_matrix, test_feature_matrix, train_labels, test_labels):\n",
        "    \"\"\"\n",
        "    Computes an information retrieval based on training data feature matrix and test data feature matrix\n",
        "    returns 4-tuple:\n",
        "    ::mean_rank:: mean of the ranking of the target document in terms of similarity to the query/test document\n",
        "    1 is the best possible score.\n",
        "    ::mean_cosine_similarity:: mean cosine similarity score for the target document vs. the test document of the same class\n",
        "    ::accuracy:: proportion of test documents correctly classified\n",
        "    ::df:: a data frame with all the similarity measures of the test documents vs. train documents\n",
        "    \n",
        "    params:\n",
        "    ::train_feature_matrix:: a numpy matrix N x M shape where N = number of characters M = number of features\n",
        "    ::test_feature_matrix::  a numpy matrix N x M shape where N = number of characters M = number of features\n",
        "    ::train_labels:: a list of character names for the training data in order consistent with train_feature_matrix\n",
        "    ::test_labels:: a list of character names for the test data in order consistent with test_feature_matrix\n",
        "    \"\"\"\n",
        "    rankings = []\n",
        "    all_cosine_similarities = []\n",
        "    pairwise_cosine_similarity = []\n",
        "    pairs = []\n",
        "    correct = 0\n",
        "    for i, target in enumerate(test_labels):\n",
        "        # compare the left out character against the mean\n",
        "        idx = i \n",
        "        fm_1 = test_feature_matrix.toarray()[idx]\n",
        "        all_sims = {}\n",
        "        # print(\"target:\", target)\n",
        "        for j, other in enumerate(train_labels):\n",
        "            fm_2 = train_feature_matrix.toarray()[j]\n",
        "            manual_cosine_similarity = compute_cosine_similarity(fm_1, fm_2)\n",
        "            pairs.append((target, other))\n",
        "            pairwise_cosine_similarity.append(manual_cosine_similarity)\n",
        "            if other == target:\n",
        "                all_cosine_similarities.append(manual_cosine_similarity)\n",
        "            all_sims[other] = manual_cosine_similarity\n",
        "\n",
        "           # print(target, other, manual_cosine_similarity)\n",
        "        sorted_similarities = sorted(all_sims.items(),key=lambda x:x[1],reverse=True)\n",
        "        # print(sorted_similarities)\n",
        "        ranking = {key[0]: rank for rank, key in enumerate(sorted_similarities, 1)}\n",
        "        #print(\"Ranking for target\", ranking[target], target, other)\n",
        "        if ranking[target] == 1:\n",
        "            correct += 1\n",
        "        rankings.append(ranking[target])\n",
        "        # print(\"*****\")\n",
        "    mean_rank = np.mean(rankings)\n",
        "    mean_cosine_similarity = np.mean(all_cosine_similarities)\n",
        "    accuracy = correct/len(test_labels)\n",
        "    print(\"mean rank\", np.mean(rankings))\n",
        "    print(\"mean cosine similarity\", mean_cosine_similarity)\n",
        "    print(correct, \"correct out of\", len(test_labels), \"/ accuracy:\", accuracy )\n",
        "    \n",
        "    # get a dafaframe showing all the similarity scores of training vs test docs\n",
        "    df = pd.DataFrame({'doc1': [x[0] for x in pairs], 'doc2': [x[1] for x in pairs],\n",
        "                       'similarity': pairwise_cosine_similarity})\n",
        "\n",
        "    # display characters which are most similar and least similar\n",
        "    # df.loc[[df.similarity.values.argmax(), df.similarity.values.argmin()]]\n",
        "    return (mean_rank, mean_cosine_similarity, accuracy, df)"
      ]
    },
    {
      "cell_type": "code",
      "execution_count": 73,
      "metadata": {
        "id": "ZJger4eyyMki"
      },
      "outputs": [],
      "source": [
        "def plot_heat_map_similarity(df):\n",
        "    \"\"\"Takes a dataframe with header 'doc1, doc2, similarity'\n",
        "    Plots a heatmap based on the similarity scores.\n",
        "    \"\"\"\n",
        "    test_labels =  sorted(list(set(df.sort_values(['doc1'])['doc1'])))\n",
        "    # add padding 1.0 values to either side\n",
        "    cm = [[1.0,] * (len(test_labels)+2)]\n",
        "    for target in test_labels:\n",
        "        new_row = [1.0]\n",
        "        for x in df.sort_values(['doc1', 'doc2'])[df['doc1']==target]['similarity']:\n",
        "            new_row.append(x)\n",
        "        new_row.append(1.0)\n",
        "        cm.append(new_row)\n",
        "    cm.append([1.0,] * (len(test_labels)+2))\n",
        "    #print(cm)\n",
        "    labels = [\"\"] + test_labels + [\"\"]\n",
        "    fig = plt.figure(figsize=(20,20))\n",
        "    ax = fig.add_subplot(111)\n",
        "    cax = ax.matshow(cm)\n",
        "    plt.title('Similarity matrix between documents as vectors')\n",
        "    fig.colorbar(cax)\n",
        "    ax.set_xticks(np.arange(len(labels)))\n",
        "    ax.set_yticks(np.arange(len(labels)))\n",
        "    ax.set_xticklabels( labels, rotation=45)\n",
        "    ax.set_yticklabels( labels)\n",
        "\n",
        "    for i in range(len(cm)):\n",
        "        for j in range(len(cm)):\n",
        "\n",
        "            text = ax.text(j, i, round(cm[i][j],3),\n",
        "                           ha=\"center\", va=\"center\", color=\"w\")\n",
        "\n",
        "    plt.xlabel('Training Vector Doc')\n",
        "    plt.ylabel('Test Vector Doc')\n",
        "    #fig.tight_layout()\n",
        "    plt.show()"
      ]
    },
    {
      "cell_type": "code",
      "execution_count": 74,
      "metadata": {
        "colab": {
          "base_uri": "https://localhost:8080/"
        },
        "id": "CwmIci5CyMki",
        "outputId": "a1a321bc-583b-48e0-ccad-593a151cd194"
      },
      "outputs": [
        {
          "output_type": "stream",
          "name": "stdout",
          "text": [
            "mean rank 1.125\n",
            "mean cosine similarity 0.4202349024598916\n",
            "15 correct out of 16 / accuracy: 0.9375\n"
          ]
        }
      ],
      "source": [
        "mean_rank, mean_cosine_simliarity, acc, df = compute_IR_evaluation_scores(training_feature_matrix, val_feature_matrix, train_labels, val_labels)"
      ]
    },
    {
      "cell_type": "code",
      "execution_count": 75,
      "metadata": {
        "colab": {
          "base_uri": "https://localhost:8080/",
          "height": 1000
        },
        "id": "Y1T6S-2gyMki",
        "outputId": "24f6ce13-b1c3-4bcd-a747-8013c025f67e"
      },
      "outputs": [
        {
          "output_type": "display_data",
          "data": {
            "text/plain": [
              "<Figure size 1440x1440 with 2 Axes>"
            ],
            "image/png": "[encoded data removed]"
          },
          "metadata": {
            "needs_background": "light"
          }
        }
      ],
      "source": [
        "plot_heat_map_similarity(df)"
      ]
    },
    {
      "cell_type": "markdown",
      "metadata": {
        "id": "73bZgGkCyMkj"
      },
      "source": [
        "Analysing the similarity results\n",
        " So far we run on the 90%/10% training/validation split, identifing the heldout character vectors ranked closest to each character's training vector which are not the character themselves, and those furthest away, as displayed using the `plot_heat_map_similarity` function. Closely observing why there isn't a successful highest match between the target character in the training set and that character's vector in the heldout set yet by identifying how their language use is similar, resulting in similar word or ngram features."
      ]
    },
    {
      "cell_type": "code",
      "source": [
        "def compute_IR_evaluation_scores_1(train_feature_matrix, test_feature_matrix, train_labels, test_labels):\n",
        "    \"\"\"\n",
        "    Computes an information retrieval based on training data feature matrix and test data feature matrix\n",
        "    returns 4-tuple:\n",
        "    ::mean_rank:: mean of the ranking of the target document in terms of similarity to the query/test document\n",
        "    1 is the best possible score.\n",
        "    ::mean_cosine_similarity:: mean cosine similarity score for the target document vs. the test document of the same class\n",
        "    ::accuracy:: proportion of test documents correctly classified\n",
        "    ::df:: a data frame with all the similarity measures of the test documents vs. train documents\n",
        "    \n",
        "    params:\n",
        "    ::train_feature_matrix:: a numpy matrix N x M shape where N = number of characters M = number of features\n",
        "    ::test_feature_matrix::  a numpy matrix N x M shape where N = number of characters M = number of features\n",
        "    ::train_labels:: a list of character names for the training data in order consistent with train_feature_matrix\n",
        "    ::test_labels:: a list of character names for the test data in order consistent with test_feature_matrix\n",
        "    \"\"\"\n",
        "    rankings = []\n",
        "    all_cosine_similarities = []\n",
        "    pairwise_cosine_similarity = []\n",
        "    pairs = []\n",
        "    correct = 0\n",
        "    for i, target in enumerate(test_labels):\n",
        "        # compare the left out character against the mean\n",
        "        idx = i \n",
        "        fm_1 = test_feature_matrix.toarray()[idx]\n",
        "        all_sims = {}\n",
        "        # print(\"target:\", target)\n",
        "        for j, other in enumerate(train_labels):\n",
        "            fm_2 = train_feature_matrix.toarray()[j]\n",
        "            manual_cosine_similarity = compute_cosine_similarity(fm_1, fm_2)\n",
        "            pairs.append((target, other))\n",
        "            pairwise_cosine_similarity.append(manual_cosine_similarity)\n",
        "            if other == target:\n",
        "                all_cosine_similarities.append(manual_cosine_similarity)\n",
        "            all_sims[other] = manual_cosine_similarity\n",
        "\n",
        "           # print(target, other, manual_cosine_similarity)\n",
        "        sorted_similarities = sorted(all_sims.items(),key=lambda x:x[1],reverse=True)\n",
        "        # print(sorted_similarities)\n",
        "        ranking = {key[0]: rank for rank, key in enumerate(sorted_similarities, 1)}\n",
        "        print(sorted_similarities[0])\n",
        "        print(\"Ranking for target\", ranking[target], target)\n",
        "        if ranking[target] == 1:\n",
        "            correct += 1\n",
        "        rankings.append(ranking[target])\n",
        "        # print(\"*****\")\n",
        "    mean_rank = np.mean(rankings)\n",
        "    mean_cosine_similarity = np.mean(all_cosine_similarities)\n",
        "    accuracy = correct/len(test_labels)\n",
        "    print(\"mean rank\", np.mean(rankings))\n",
        "    print(\"mean cosine similarity\", mean_cosine_similarity)\n",
        "    print(correct, \"correct out of\", len(test_labels), \"/ accuracy:\", accuracy )\n",
        "    \n",
        "    # get a dafaframe showing all the similarity scores of training vs test docs\n",
        "    df = pd.DataFrame({'doc1': [x[0] for x in pairs], 'doc2': [x[1] for x in pairs],\n",
        "                       'similarity': pairwise_cosine_similarity})\n",
        "\n",
        "    # display characters which are most similar and least similar\n",
        "    # df.loc[[df.similarity.values.argmax(), df.similarity.values.argmin()]]\n",
        "    return (mean_rank, mean_cosine_similarity, accuracy, df)"
      ],
      "metadata": {
        "id": "E85-3Jaaho_1"
      },
      "execution_count": 76,
      "outputs": []
    },
    {
      "cell_type": "code",
      "source": [
        "mean_rank, mean_cosine_simliarity, acc, df1 = compute_IR_evaluation_scores_1(training_matrix, val_matrix, train_labels, val_labels)"
      ],
      "metadata": {
        "id": "WRlR8iAih43W",
        "outputId": "2b801642-658a-4cdb-95da-717daa20e8a4",
        "colab": {
          "base_uri": "https://localhost:8080/"
        }
      },
      "execution_count": 77,
      "outputs": [
        {
          "output_type": "stream",
          "name": "stdout",
          "text": [
            "('CHRISTIAN', 0.5211138388370845)\n",
            "Ranking for target 1 CHRISTIAN\n",
            "('CLARE', 0.3792344001495003)\n",
            "Ranking for target 1 CLARE\n",
            "('HEATHER', 0.5394290746472238)\n",
            "Ranking for target 1 HEATHER\n",
            "('IAN', 0.41416253554826)\n",
            "Ranking for target 1 IAN\n",
            "('JACK', 0.3268860626803644)\n",
            "Ranking for target 1 JACK\n",
            "('JANE', 0.6312080192583279)\n",
            "Ranking for target 1 JANE\n",
            "('MAX', 0.5460033898390404)\n",
            "Ranking for target 1 MAX\n",
            "('MINTY', 0.4847025519571617)\n",
            "Ranking for target 1 MINTY\n",
            "('OTHER', 0.39153391701426227)\n",
            "Ranking for target 1 OTHER\n",
            "('PHIL', 0.34608003951716093)\n",
            "Ranking for target 1 PHIL\n",
            "('RONNIE', 0.3464362864529339)\n",
            "Ranking for target 1 RONNIE\n",
            "('CHRISTIAN', 0.3855654474738553)\n",
            "Ranking for target 3 ROXY\n",
            "('SEAN', 0.3412119629167535)\n",
            "Ranking for target 1 SEAN\n",
            "('SHIRLEY', 0.29047727657002587)\n",
            "Ranking for target 1 SHIRLEY\n",
            "('STACEY', 0.3650523614522695)\n",
            "Ranking for target 1 STACEY\n",
            "('TANYA', 0.4505745387689611)\n",
            "Ranking for target 1 TANYA\n",
            "mean rank 1.125\n",
            "mean cosine similarity 0.4202349024598916\n",
            "15 correct out of 16 / accuracy: 0.9375\n"
          ]
        }
      ]
    },
    {
      "cell_type": "markdown",
      "source": [
        "  There must be a highest match between 'ROXY' target charecter spoken lines and 'ROXY' train charecter spoken lines. From the above output we can observe that 'CHRISTIAN' training charecter spoken lines has a highest match with the 'ROXY' charecter spoken lines. "
      ],
      "metadata": {
        "id": "ax0lVFFpnhZe"
      }
    },
    {
      "cell_type": "code",
      "source": [
        "a=df1[df1['doc1']=='ROXY']\n",
        "a.sort_values(by='similarity',ascending=False)[:3]"
      ],
      "metadata": {
        "id": "IPjsBRbRpMMM",
        "outputId": "2503ead5-e0ce-4e85-96c6-9af55b460af8",
        "colab": {
          "base_uri": "https://localhost:8080/",
          "height": 143
        }
      },
      "execution_count": 78,
      "outputs": [
        {
          "output_type": "execute_result",
          "data": {
            "text/plain": [
              "     doc1       doc2  similarity\n",
              "176  ROXY  CHRISTIAN    0.385565\n",
              "181  ROXY       JANE    0.353831\n",
              "187  ROXY       ROXY    0.349652"
            ],
            "text/html": [
              "\n",
              "  <div id=\"df-b4c3faec-c860-46aa-96be-a522419de552\">\n",
              "    <div class=\"colab-df-container\">\n",
              "      <div>\n",
              "<style scoped>\n",
              "    .dataframe tbody tr th:only-of-type {\n",
              "        vertical-align: middle;\n",
              "    }\n",
              "\n",
              "    .dataframe tbody tr th {\n",
              "        vertical-align: top;\n",
              "    }\n",
              "\n",
              "    .dataframe thead th {\n",
              "        text-align: right;\n",
              "    }\n",
              "</style>\n",
              "<table border=\"1\" class=\"dataframe\">\n",
              "  <thead>\n",
              "    <tr style=\"text-align: right;\">\n",
              "      <th></th>\n",
              "      <th>doc1</th>\n",
              "      <th>doc2</th>\n",
              "      <th>similarity</th>\n",
              "    </tr>\n",
              "  </thead>\n",
              "  <tbody>\n",
              "    <tr>\n",
              "      <th>176</th>\n",
              "      <td>ROXY</td>\n",
              "      <td>CHRISTIAN</td>\n",
              "      <td>0.385565</td>\n",
              "    </tr>\n",
              "    <tr>\n",
              "      <th>181</th>\n",
              "      <td>ROXY</td>\n",
              "      <td>JANE</td>\n",
              "      <td>0.353831</td>\n",
              "    </tr>\n",
              "    <tr>\n",
              "      <th>187</th>\n",
              "      <td>ROXY</td>\n",
              "      <td>ROXY</td>\n",
              "      <td>0.349652</td>\n",
              "    </tr>\n",
              "  </tbody>\n",
              "</table>\n",
              "</div>\n",
              "      <button class=\"colab-df-convert\" onclick=\"convertToInteractive('df-b4c3faec-c860-46aa-96be-a522419de552')\"\n",
              "              title=\"Convert this dataframe to an interactive table.\"\n",
              "              style=\"display:none;\">\n",
              "        \n",
              "  <svg xmlns=\"http://www.w3.org/2000/svg\" height=\"24px\"viewBox=\"0 0 24 24\"\n",
              "       width=\"24px\">\n",
              "    <path d=\"M0 0h24v24H0V0z\" fill=\"none\"/>\n",
              "    <path d=\"M18.56 5.44l.94 2.06.94-2.06 2.06-.94-2.06-.94-.94-2.06-.94 2.06-2.06.94zm-11 1L8.5 8.5l.94-2.06 2.06-.94-2.06-.94L8.5 2.5l-.94 2.06-2.06.94zm10 10l.94 2.06.94-2.06 2.06-.94-2.06-.94-.94-2.06-.94 2.06-2.06.94z\"/><path d=\"M17.41 7.96l-1.37-1.37c-.4-.4-.92-.59-1.43-.59-.52 0-1.04.2-1.43.59L10.3 9.45l-7.72 7.72c-.78.78-.78 2.05 0 2.83L4 21.41c.39.39.9.59 1.41.59.51 0 1.02-.2 1.41-.59l7.78-7.78 2.81-2.81c.8-.78.8-2.07 0-2.86zM5.41 20L4 18.59l7.72-7.72 1.47 1.35L5.41 20z\"/>\n",
              "  </svg>\n",
              "      </button>\n",
              "      \n",
              "  <style>\n",
              "    .colab-df-container {\n",
              "      display:flex;\n",
              "      flex-wrap:wrap;\n",
              "      gap: 12px;\n",
              "    }\n",
              "\n",
              "    .colab-df-convert {\n",
              "      background-color: #E8F0FE;\n",
              "      border: none;\n",
              "      border-radius: 50%;\n",
              "      cursor: pointer;\n",
              "      display: none;\n",
              "      fill: #1967D2;\n",
              "      height: 32px;\n",
              "      padding: 0 0 0 0;\n",
              "      width: 32px;\n",
              "    }\n",
              "\n",
              "    .colab-df-convert:hover {\n",
              "      background-color: #E2EBFA;\n",
              "      box-shadow: 0px 1px 2px rgba(60, 64, 67, 0.3), 0px 1px 3px 1px rgba(60, 64, 67, 0.15);\n",
              "      fill: #174EA6;\n",
              "    }\n",
              "\n",
              "    [theme=dark] .colab-df-convert {\n",
              "      background-color: #3B4455;\n",
              "      fill: #D2E3FC;\n",
              "    }\n",
              "\n",
              "    [theme=dark] .colab-df-convert:hover {\n",
              "      background-color: #434B5C;\n",
              "      box-shadow: 0px 1px 3px 1px rgba(0, 0, 0, 0.15);\n",
              "      filter: drop-shadow(0px 1px 2px rgba(0, 0, 0, 0.3));\n",
              "      fill: #FFFFFF;\n",
              "    }\n",
              "  </style>\n",
              "\n",
              "      <script>\n",
              "        const buttonEl =\n",
              "          document.querySelector('#df-b4c3faec-c860-46aa-96be-a522419de552 button.colab-df-convert');\n",
              "        buttonEl.style.display =\n",
              "          google.colab.kernel.accessAllowed ? 'block' : 'none';\n",
              "\n",
              "        async function convertToInteractive(key) {\n",
              "          const element = document.querySelector('#df-b4c3faec-c860-46aa-96be-a522419de552');\n",
              "          const dataTable =\n",
              "            await google.colab.kernel.invokeFunction('convertToInteractive',\n",
              "                                                     [key], {});\n",
              "          if (!dataTable) return;\n",
              "\n",
              "          const docLinkHtml = 'Like what you see? Visit the ' +\n",
              "            '<a target=\"_blank\" href=https://colab.research.google.com/notebooks/data_table.ipynb>data table notebook</a>'\n",
              "            + ' to learn more about interactive tables.';\n",
              "          element.innerHTML = '';\n",
              "          dataTable['output_type'] = 'display_data';\n",
              "          await google.colab.output.renderOutput(dataTable, element);\n",
              "          const docLink = document.createElement('div');\n",
              "          docLink.innerHTML = docLinkHtml;\n",
              "          element.appendChild(docLink);\n",
              "        }\n",
              "      </script>\n",
              "    </div>\n",
              "  </div>\n",
              "  "
            ]
          },
          "metadata": {},
          "execution_count": 78
        }
      ]
    },
    {
      "cell_type": "code",
      "source": [
        "from nltk import ngrams"
      ],
      "metadata": {
        "id": "JV8AJRziAIfE"
      },
      "execution_count": 80,
      "outputs": []
    },
    {
      "cell_type": "code",
      "source": [
        "\"\"\"\n",
        "Extracting words spoken by ROXY from the val_data \n",
        "\"\"\"\n",
        "for key,doc in val_corpus:\n",
        "  if key=='ROXY':\n",
        "    n=1\n",
        "    features = to_feature_vector_dictionary(ngrams(doc,n),[])\n",
        "    print(features)"
      ],
      "metadata": {
        "colab": {
          "base_uri": "https://localhost:8080/"
        },
        "id": "WeGCpRKN9BUg",
        "outputId": "b2d6019e-d3db-4376-ba60-b3afaefd734e"
      },
      "execution_count": 81,
      "outputs": [
        {
          "output_type": "stream",
          "name": "stdout",
          "text": [
            "{('import',): 1, ('_eol_',): 40, ('sorri',): 1, ('think',): 3, ('half',): 1, ('cut',): 1, ('mayb',): 1, ('go',): 3, ('sort',): 1, ('pretti',): 1, ('sight',): 1, ('shifti',): 1, ('slimey',): 1, ('littl',): 1, ('jack',): 2, ('sister',): 1, ('ian',): 4, ('beal',): 3, ('ah',): 1, ('poor',): 1, ('thing',): 1, ('roxi',): 2, ('mitchel',): 1, ('cours',): 1, ('know',): 1, ('nearli',): 1, ('marri',): 1, ('call',): 1, ('first',): 1, ('wed',): 1, ('jane',): 1, ('affair',): 1, ('cousin',): 1, ('grant',): 1, ('seen',): 1, ('year',): 1, ('differ',): 1, ('mean',): 1, ('ysed',): 1, ('para',): 1, ('somewher',): 2, ('oh',): 1, ('ron',): 1, ('come',): 1, ('need',): 1, ('move',): 3, ('clean',): 1, ('jumper',): 1, ('back',): 2, ('ronni',): 2, ('pleas',): 2, ('alrigh',): 1, ('well',): 1, ('unarrang',): 1, ('make',): 1, ('huge',): 1, ('mistak',): 1, ('want',): 1, ('best',): 2, ('regret',): 1, ('trust',): 1, ('beg',): 1, ('slept',): 1, ('selena',): 1, ('would',): 1, ('tell',): 1, ('truth',): 1, ('swear',): 1, ('saw',): 2, ('eye',): 1, ('club',): 1, ('friday',): 1, ('night',): 2, ('desk',): 1, ('wrong',): 1, ('kind',): 1, ('hold',): 1, ('got',): 2, ('lie',): 1, ('someth',): 1, ('like',): 2, ('fine',): 1, ('way',): 1, ('say',): 1, ('warn',): 1, ('wast',): 2, ('traffic',): 1, ('warden',): 1, ('fit',): 1, ('bloke',): 1, ('let',): 2, ('might',): 1, ('even',): 1, ('buy',): 1, ('drink',): 1, ('later',): 1, ('power',): 1, ('mad',): 1, ('lot',): 1, ('sleep',): 1, ('time',): 1, ('gonna',): 1, ('love',): 1, ('pleasur',): 1, ('mine',): 1, ('listen',): 2, ('gotta',): 1, ('keep',): 1, ('slipperi',): 1, ('eel',): 1, ('place',): 1, ('anyway',): 1, ('food',): 1, ('laid',): 1, ('cor',): 1, ('right',): 1, ('hump',): 1, ('today',): 1, ('find',): 1, ('quick',): 1, ('yeah',): 1, ('sure',): 1}\n"
          ]
        }
      ]
    },
    {
      "cell_type": "code",
      "source": [
        "\"\"\"\n",
        "Extracting words spoken by CHRISTIAN from the val_data \n",
        "\"\"\"\n",
        "for key,doc in training_corpus:\n",
        "  if key=='CHRISTIAN':\n",
        "    n=1\n",
        "    features = to_feature_vector_dictionary(ngrams(doc,n),[])\n",
        "    print(features)"
      ],
      "metadata": {
        "colab": {
          "base_uri": "https://localhost:8080/"
        },
        "id": "VXKb4UeI8iq8",
        "outputId": "ae1a535a-8032-43c5-a3e3-d01c1eec3a7f"
      },
      "execution_count": 82,
      "outputs": [
        {
          "output_type": "stream",
          "name": "stdout",
          "text": [
            "{('lesley',): 3, ('realli',): 10, ('glad',): 2, ('must',): 2, ('ian',): 29, ('_eol_',): 342, ('partner',): 2, ('ashley',): 3, ('love',): 10, ('littl',): 3, ('place',): 3, ('seen',): 4, ('flesh',): 1, ('compar',): 1, ('way',): 7, ('describ',): 1, ('keep',): 4, ('forget',): 4, ('chang',): 1, ('name',): 2, ('would',): 4, ('therapist',): 1, ('bloke',): 4, ('make',): 11, ('might',): 9, ('say',): 12, ('indic',): 1, ('attempt',): 1, ('run',): 4, ('away',): 4, ('someth',): 6, ('let',): 8, ('go',): 13, ('amongst',): 1, ('thing',): 6, ('sister',): 3, ('call',): 5, ('hate',): 2, ('relationship',): 1, ('right',): 6, ('jane',): 19, ('much',): 3, ('break',): 1, ('heart',): 1, ('bottl',): 2, ('best',): 3, ('champagn',): 1, ('pleas',): 1, ('start',): 4, ('count',): 3, ('penni',): 1, ('pay',): 5, ('ash',): 3, ('know',): 14, ('exactli',): 3, ('imagin',): 1, ('kind',): 2, ('end',): 2, ('marri',): 1, ('mean',): 6, ('david',): 3, ('alway',): 4, ('tough',): 1, ('act',): 3, ('follow',): 1, ('word',): 1, ('think',): 15, ('found',): 1, ('yeah',): 20, ('well',): 16, ('hampstead',): 1, ('heath',): 1, ('allow',): 1, ('author',): 1, ('take',): 9, ('dim',): 1, ('view',): 1, ('probat',): 2, ('offic',): 4, ('date',): 2, ('client',): 1, ('certainli',): 2, ('like',): 15, ('quiet',): 1, ('sorri',): 6, ('shut',): 1, ('cours',): 4, ('nervou',): 1, ('long',): 7, ('die',): 1, ('least',): 1, ('year',): 2, ('still',): 7, ('kid',): 4, ('mani',): 5, ('drink',): 5, ('took',): 1, ('secur',): 1, ('passion',): 2, ('sure',): 5, ('work',): 7, ('everi',): 1, ('day',): 5, ('better',): 3, ('wors',): 2, ('got',): 17, ('nowher',): 2, ('stay',): 3, ('week',): 2, ('two',): 4, ('els',): 2, ('money',): 2, ('noth',): 6, ('happen',): 5, ('give',): 5, ('us',): 7, ('chanc',): 1, ('get',): 23, ('mad',): 1, ('ya',): 1, ('hi',): 2, ('christian',): 2, ('brother',): 2, ('heard',): 2, ('believ',): 2, ('come',): 20, ('gene',): 1, ('pool',): 1, ('handsom',): 1, ('man',): 3, ('quit',): 1, ('frankli',): 1, ('incred',): 1, ('eye',): 1, ('oh',): 10, ('decor',): 1, ('ah',): 1, ('thank',): 5, ('regret',): 1, ('mind',): 4, ('share',): 2, ('bed',): 2, ('hot',): 2, ('collar',): 1, ('bet',): 5, ('rule',): 2, ('written',): 1, ('somewher',): 3, ('lamin',): 1, ('joke',): 4, ('stand',): 1, ('earth',): 1, ('touch',): 2, ('tuna',): 1, ('mayonnais',): 1, ('mate',): 2, ('affect',): 2, ('hear',): 2, ('fun',): 5, ('invit',): 2, ('anticip',): 1, ('kill',): 2, ('nineteen',): 1, ('eighti',): 1, ('someon',): 4, ('shoot',): 2, ('sound',): 3, ('labrador',): 2, ('except',): 2, ('cute',): 2, ('less',): 2, ('captain',): 2, ('corelli',): 1, ('pugwash',): 1, ('tell',): 10, ('see',): 8, ('last',): 10, ('time',): 7, ('thought',): 7, ('care',): 3, ('majesti',): 1, ('tonight',): 3, ('anyon',): 3, ('walk',): 1, ('emigr',): 1, ('wonder',): 2, ('kick',): 1, ('round',): 6, ('promis',): 4, ('one',): 10, ('speak',): 1, ('suppos',): 3, ('could',): 4, ('favour',): 2, ('elbow',): 1, ('dirti',): 1, ('dish',): 1, ('water',): 1, ('none',): 1, ('whatsoev',): 1, ('want',): 6, ('often',): 2, ('dream',): 1, ('romant',): 1, ('fiction',): 1, ('reckon',): 3, ('whatev',): 3, ('wait',): 3, ('gentleman',): 1, ('kieron',): 1, ('ex',): 1, ('mine',): 3, ('use',): 2, ('look',): 14, ('first',): 3, ('gonna',): 7, ('jealou',): 1, ('turn',): 3, ('find',): 1, ('hitch',): 1, ('mr',): 2, ('bean',): 1, ('even',): 4, ('darlin',): 1, ('knight',): 1, ('shine',): 1, ('armour',): 1, ('grant',): 1, ('made',): 2, ('feel',): 2, ('insid',): 1, ('ever',): 2, ('soldier',): 1, ('buff',): 1, ('hungri',): 1, ('good',): 14, ('back',): 6, ('collect',): 1, ('stuff',): 1, ('wive',): 1, ('skivi',): 1, ('book',): 5, ('read',): 1, ('wake',): 2, ('smell',): 1, ('coffe',): 2, ('realis',): 1, ('miss',): 1, ('rest',): 3, ('dodo',): 1, ('number',): 2, ('forti',): 1, ('five',): 1, ('okay',): 5, ('hair',): 1, ('polo',): 1, ('shirt',): 1, ('begin',): 1, ('paunch',): 1, ('spend',): 2, ('preciou',): 1, ('present',): 1, ('serious',): 1, ('actual',): 1, ('peopl',): 4, ('smile',): 2, ('husband',): 2, ('fortun',): 1, ('night',): 7, ('never',): 5, ('twenti',): 3, ('angl',): 1, ('panic',): 1, ('food',): 3, ('room',): 1, ('full',): 1, ('hundr',): 1, ('riot',): 1, ('hand',): 2, ('ten',): 1, ('alright',): 4, ('tri',): 2, ('help',): 3, ('bite',): 1, ('head',): 2, ('need',): 7, ('fire',): 1, ('brigad',): 1, ('lift',): 1, ('rox',): 3, ('knew',): 2, ('forgot',): 1, ('leav',): 4, ('creatur',): 1, ('deep',): 1, ('stuf',): 1, ('vol',): 1, ('au',): 1, ('vent',): 1, ('cost',): 1, ('ask',): 2, ('yesterday',): 2, ('outsid',): 1, ('cater',): 1, ('hard',): 2, ('nice',): 5, ('accid',): 1, ('babe',): 1, ('anywher',): 1, ('roxi',): 2, ('mood',): 1, ('dark',): 2, ('side',): 2, ('moon',): 1, ('far',): 2, ('enough',): 2, ('distinct',): 1, ('impress',): 2, ('mend',): 1, ('necklac',): 1, ('bring',): 2, ('hidden',): 1, ('depth',): 1, ('retro',): 1, ('throwback',): 1, ('age',): 1, ('talk',): 2, ('togeth',): 2, ('saw',): 1, ('rake',): 1, ('council',): 2, ('friend',): 1, ('enjoy',): 2, ('union',): 1, ('hold',): 1, ('depend',): 5, ('ok',): 4, ('upset',): 1, ('ronni',): 1, ('warn',): 1, ('mistak',): 1, ('fine',): 3, ('eas',): 1, ('conscienc',): 1, ('gift',): 1, ('anyth',): 3, ('illeg',): 1, ('definit',): 1, ('perk',): 1, ('earlier',): 1, ('job',): 2, ('vauxhal',): 1, ('soho',): 1, ('three',): 2, ('phone',): 3, ('bad',): 1, ('either',): 2, ('ﬁtimﬂ',): 1, ('home',): 4, ('wife',): 1, ('told',): 2, ('charg',): 1, ('gun',): 1, ('blaze',): 1, ('answer',): 1, ('messeng',): 1, ('jack',): 1, ('state',): 2, ('finish',): 1, ('busi',): 4, ('plan',): 1, ('wrong',): 1, ('imag',): 1, ('plu',): 1, ('late',): 2, ('card',): 1, ('alreadi',): 2, ('print',): 2, ('great',): 3, ('wed',): 1, ('corpor',): 1, ('stink',): 1, ('glamor',): 1, ('market',): 1, ('budget',): 1, ('offer',): 2, ('deliv',): 2, ('gay',): 1, ('cheesey',): 1, ('hedgehog',): 1, ('oi',): 1, ('lumber',): 1, ('parti',): 3, ('swan',): 1, ('brown',): 1, ('nose',): 2, ('lunch',): 1, ('mobil',): 1, ('disco',): 1, ('strobe',): 1, ('light',): 1, ('dri',): 1, ('ice',): 1, ('lot',): 3, ('jeep',): 1, ('pick',): 2, ('karaok',): 1, ('bingo',): 1, ('drop',): 1, ('hell',): 1, ('cheeki',): 1, ('git',): 1, ('interest',): 1, ('co',): 1, ('sort',): 2, ('mess',): 1, ('commit',): 1, ('profession',): 1, ('suicid',): 1, ('multi',): 1, ('talent',): 1, ('lucki',): 1, ('sight',): 1, ('jeph',): 1, ('boxer',): 1, ('short',): 1, ('repress',): 1, ('tendenc',): 1, ('resist',): 1, ('face',): 2, ('wind',): 1, ('worri',): 1, ('boy',): 1, ('futur',): 2, ('troubl',): 1, ('afternoon',): 1, ('shall',): 1, ('hug',): 1, ('meet',): 2, ('spare',): 1, ('detail',): 1, ('bi',): 1, ('wear',): 3, ('import',): 1, ('wanna',): 5, ('outfit',): 1, ('attract',): 1, ('pretend',): 1, ('hang',): 2, ('rememb',): 2, ('pink',): 5, ('everyth',): 1, ('tablecloth',): 1, ('menu',): 2, ('napkin',): 1, ('letter',): 1, ('tunstal',): 1, ('expect',): 2, ('silver',): 2, ('servic',): 2, ('agenc',): 1, ('staff',): 1, ('iron',): 2, ('post',): 2, ('modern',): 2, ('starter',): 1, ('differ',): 1, ('laugh',): 1, ('understand',): 1, ('dave',): 2, ('met',): 2, ('particularli',): 1, ('remind',): 1, ('club',): 2, ('saturday',): 1, ('consult',): 1, ('old',): 1, ('diari',): 1, ('singl',): 1, ('nearbi',): 1, ('address',): 1, ('learn',): 1, ('voic',): 1, ('rid',): 1, ('opportun',): 1, ('smart',): 1, ('fit',): 1, ('men',): 2, ('reason',): 1, ('came',): 1, ('fix',): 1, ('flat',): 3, ('welcom',): 1, ('instal',): 1, ('ventil',): 1, ('perhap',): 2, ('hous',): 1, ('alter',): 1, ('put',): 2, ('pen',): 1, ('paper',): 1, ('tenant',): 2, ('possibl',): 1, ('live',): 1, ('current',): 1, ('whistl',): 1, ('merrili',): 1, ('spontan',): 1, ('anoth',): 2, ('woman',): 1, ('hello',): 1, ('everyon',): 2, ('obvious',): 2, ('kitchen',): 1, ('tap',): 2, ('leak',): 1, ('check',): 5, ('term',): 1, ('tenanc',): 1, ('agreement',): 1, ('forgotten',): 1, ('tast',): 1, ('wine',): 2, ('later',): 1, ('jog',): 1, ('stress',): 1, ('plumber',): 4, ('notic',): 1, ('squat',): 1, ('thrust',): 1, ('four',): 1, ('lung',): 1, ('ach',): 1, ('teeth',): 4, ('tiger',): 1, ('cissi',): 1, ('unless',): 2, ('stretch',): 1, ('pouill',): 1, ('fuiss',): 1, ('french',): 1, ('probabl',): 1, ('achi',): 1, ('breaki',): 1, ('spit',): 1, ('problem',): 1, ('bye',): 1, ('hopalong',): 1, ('mayb',): 2, ('bump',): 1, ('clare',): 4, ('minut',): 2, ('brush',): 1, ('fail',): 1, ('mention',): 1, ('grotti',): 1, ('wash',): 1, ('machin',): 1, ('control',): 1, ('caus',): 1, ('unfortun',): 1, ('order',): 1, ('guest',): 2, ('band',): 2, ('4',): 1, ('381',): 1, ('pound',): 1, ('67',): 1, ('penc',): 1, ('spent',): 1, ('venu',): 1, ('next',): 1, ('friday',): 1, ('instead',): 1, ('street',): 1, ('februari',): 1, ('moron',): 2, ('deal',): 2, ('edward',): 5, ('wecan',): 1, ('trust',): 1, ('pant',): 1, ('launderett',): 1, ('shortlist',): 1, ('cool',): 1, ('stuffi',): 1, ('hotel',): 2, ('cancel',): 1, ('dj',): 1, ('buffet',): 1, ('knacker',): 1, ('plate',): 1, ('cover',): 2, ('daddi',): 1, ('pluck',): 1, ('eyebrow',): 1, ('yay',): 1, ('cheeri',): 1, ('glow',): 1, ('larg',): 1, ('gourmet',): 1, ('dinner',): 1, ('tub',): 1, ('triumph',): 1, ('hubbi',): 2, ('final',): 1, ('big',): 1, ('kingsiz',): 1, ('entertain',): 1, ('proper',): 1, ('hob',): 1, ('noah',): 1, ('nah',): 1, ('undo',): 1, ('treat',): 1, ('keen',): 1, ('cure',): 1, ('afraid',): 1, ('dummi',): 1, ('pot',): 1, ('self',): 1, ('referenc',): 1, ('straight',): 1, ('glass',): 2, ('prosecco',): 1, ('grab',): 1, ('canap',): 1, ('steven',): 2, ('dear',): 1, ('dorothi',): 1, ('gone',): 1, ('taken',): 1, ('toto',): 1, ('kansa',): 1, ('frock',): 1, ('fashion',): 1, ('bit',): 1, ('dress',): 1, ('box',): 1, ('said',): 2, ('valentino',): 1, ('balenciaga',): 1, ('design',): 1, ('idea',): 2, ('fifti',): 1, ('seventi',): 1, ('chees',): 1, ('stick',): 1, ('pub',): 1, ('life',): 1, ('board',): 1, ('readi',): 1, ('hit',): 1, ('ground',): 1, ('doorstep',): 1, ('stupid',): 1, ('advantag',): 1, ('wimp',): 1, ('janey',): 1, ('waney',): 1, ('walford',): 1, ('new',): 2, ('stud',): 1, ('muffin',): 1, ('tea',): 1, ('bedtim',): 1, ('stripper',): 1, ('giggl',): 1, ('glam',): 1, ('draw',): 1, ('pull',): 1, ('goos',): 1, ('snog',): 2, ('nearest',): 1, ('knock',): 1, ('toy',): 1, ('unearth',): 1, ('secret',): 1, ('admir',): 1, ('beal',): 1, ('fairi',): 1, ('tale',): 1, ('true',): 1, ('idiot',): 1, ('watch',): 2, ('overweight',): 1, ('tourist',): 1, ('throw',): 1, ('ride',): 1, ('audit',): 1, ('joker',): 1, ('constip',): 1, ('honour',): 1, ('premis',): 1, ('summer',): 1, ('blimey',): 1, ('addam',): 1, ('famili',): 2, ('propos',): 1, ('toast',): 1, ('queen',): 3, ('rise',): 1, ('amaz',): 1, ('punk',): 1, ('tape',): 2, ('pau',): 1, ('piec',): 1, ('buckingham',): 1, ('god',): 1, ('save',): 1, ('fascist',): 1, ('regim',): 1, ('luci',): 3, ('sub',): 1, ('conscious',): 1, ('endors',): 1, ('sentiment',): 1, ('royal',): 1, ('navi',): 1, ('paid',): 1, ('realiz',): 1, ('ceremoni',): 1, ('award',): 1, ('clench',): 1, ('coat',): 1, ('darl',): 1, ('behav',): 1, ('split',): 1, ('park',): 1, ('hour',): 1, ('nobodi',): 1, ('canal',): 1}\n"
          ]
        }
      ]
    },
    {
      "cell_type": "markdown",
      "source": [
        "There are lot of similar words spoken by 'roxy' and 'christian' charecters' from the validation and train data.some of the observations are 'run','shop','ian',,'lucki','marri','christian','fanci','think', 'bag','littl','bloke','might','proud','one','come','earth','shirt','thing','need','someth','today','top','grandios','tell','put','dinner','togeth','two','definit','bloke','dead','never','walford','got','lot'."
      ],
      "metadata": {
        "id": "wumeow8I_BP_"
      }
    },
    {
      "cell_type": "code",
      "source": [
        "# redo on all training data with the first 400 character lines used\n",
        "train_character_docs = create_character_document_from_dataframe(all_train_data, max_line_count=400)\n",
        "# print('Num. Characters: ',len(train_character_docs.keys()),\"\\n\")\n",
        "total_words = 0\n",
        "for name in train_character_docs.keys():\n",
        "    # print(name, 'Number of Words: ',len(train_character_docs[name].split()))\n",
        "    total_words += len(train_character_docs[name].split())\n",
        "# print(\"total words\", total_words)\n",
        "\n",
        "training_corpus = [(name, pre_process(doc)) for name, doc in train_character_docs.items()]\n",
        "train_labels = [name for name, doc in training_corpus]\n",
        "\n",
        "corpusVectorizer = DictVectorizer()   # initialize a corpusVectorizor which will output sparse vectors from dicts\n",
        "# Any matrix transformers (e.g. tf-idf transformers) should be initialized here\n",
        "\n",
        "\n",
        "training_feature_matrix = create_document_matrix_from_corpus(training_corpus, fitting=True)\n",
        "seed(0) # set a seed for reproducibility so same split is used each time\n",
        "\n",
        "epsiode_scene_column = test_data.Episode.astype(str) + \"-\" + test_data.Scene.astype(str)\n",
        "test_data['episode_scene'] = epsiode_scene_column\n",
        "# get the test data using 40 lines per character\n",
        "test_character_docs = create_character_document_from_dataframe(test_data, max_line_count=40)\n",
        "# print('Num. Characters: ',len(test_character_docs.keys()),\"\\n\")\n",
        "total_words = 0\n",
        "for name in test_character_docs.keys():\n",
        "    # print(name, 'Number of Words: ',len(test_character_docs[name].split()))\n",
        "    total_words += len(test_character_docs[name].split())\n",
        "# print(\"total words\", total_words)\n",
        "\n",
        "# create list of pairs of (character name, pre-processed character) \n",
        "test_corpus = [(name, pre_process(doc)) for name, doc in test_character_docs.items()]\n",
        "test_labels = [name for name, doc in test_corpus]\n",
        "\n",
        "\n",
        "# Just transform the val_feature_matrix, don't fit\n",
        "test_feature_matrix = create_document_matrix_from_corpus(test_corpus, fitting=False)\n",
        "\n",
        "\n",
        "mean_rank, mean_cosine_simliarity, acc, df = compute_IR_evaluation_scores(training_feature_matrix, test_feature_matrix, train_labels, test_labels)"
      ],
      "metadata": {
        "colab": {
          "base_uri": "https://localhost:8080/"
        },
        "id": "jfcPl5lbnL_o",
        "outputId": "1e639a9e-6d19-4d14-a3bb-b1dd20db24aa"
      },
      "execution_count": 84,
      "outputs": [
        {
          "output_type": "stream",
          "name": "stdout",
          "text": [
            "lines per character {'SHIRLEY': 400, 'OTHER': 400, 'JACK': 400, 'RONNIE': 400, 'TANYA': 400, 'SEAN': 400, 'ROXY': 400, 'HEATHER': 400, 'MAX': 400, 'IAN': 400, 'JANE': 400, 'STACEY': 400, 'PHIL': 400, 'MINTY': 400, 'CHRISTIAN': 385, 'CLARE': 400}\n",
            "lines per character {'SHIRLEY': 40, 'OTHER': 40, 'HEATHER': 40, 'PHIL': 40, 'SEAN': 40, 'TANYA': 40, 'MAX': 40, 'JACK': 40, 'IAN': 40, 'JANE': 40, 'STACEY': 40, 'ROXY': 40, 'RONNIE': 40, 'CHRISTIAN': 40, 'MINTY': 40, 'CLARE': 40}\n",
            "mean rank 1.0625\n",
            "mean cosine similarity 0.46196310589124584\n",
            "15 correct out of 16 / accuracy: 0.9375\n"
          ]
        }
      ]
    }
  ],
  "metadata": {
    "kernelspec": {
      "display_name": "Python 3",
      "language": "python",
      "name": "python3"
    },
    "language_info": {
      "codemirror_mode": {
        "name": "ipython",
        "version": 3
      },
      "file_extension": ".py",
      "mimetype": "text/x-python",
      "name": "python",
      "nbconvert_exporter": "python",
      "pygments_lexer": "ipython3",
      "version": "3.7.4"
    },
    "colab": {
      "provenance": []
    }
  },
  "nbformat": 4,
  "nbformat_minor": 0
}